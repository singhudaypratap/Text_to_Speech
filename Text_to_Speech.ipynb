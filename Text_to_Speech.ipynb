{
  "nbformat": 4,
  "nbformat_minor": 0,
  "metadata": {
    "colab": {
      "provenance": []
    },
    "kernelspec": {
      "name": "python3",
      "display_name": "Python 3"
    },
    "language_info": {
      "name": "python"
    }
  },
  "cells": [
    {
      "cell_type": "markdown",
      "source": [
        "## Dr Uday Pratap Singh \n",
        "### Associate professor\n",
        "### PIET Jaipur\n",
        "Google Text-to-Speech:\n",
        "\n",
        "\n",
        "> gTTS is a Python library and CLI tool to interface with Google Translate's text-to-speech API. Write spoken mp3 data to a file, a file-like object (bytestring) for further audio manipulation, or stdout. Or simply pre-generate Google Translate TTS request URLs to feed to an external program. http://gtts.readthedocs.org/\n",
        "\n"
      ],
      "metadata": {
        "id": "nSMMtmXNmE7v"
      }
    },
    {
      "cell_type": "code",
      "execution_count": null,
      "metadata": {
        "colab": {
          "base_uri": "https://localhost:8080/"
        },
        "id": "lRN1quuajk8n",
        "outputId": "8d442308-dd8b-46dc-a387-905259cc9880"
      },
      "outputs": [
        {
          "output_type": "stream",
          "name": "stdout",
          "text": [
            "Looking in indexes: https://pypi.org/simple, https://us-python.pkg.dev/colab-wheels/public/simple/\n",
            "Collecting gTTS\n",
            "  Downloading gTTS-2.2.4-py3-none-any.whl (26 kB)\n",
            "Requirement already satisfied: requests in /usr/local/lib/python3.7/dist-packages (from gTTS) (2.23.0)\n",
            "Requirement already satisfied: six in /usr/local/lib/python3.7/dist-packages (from gTTS) (1.15.0)\n",
            "Requirement already satisfied: click in /usr/local/lib/python3.7/dist-packages (from gTTS) (7.1.2)\n",
            "Requirement already satisfied: certifi>=2017.4.17 in /usr/local/lib/python3.7/dist-packages (from requests->gTTS) (2022.6.15)\n",
            "Requirement already satisfied: urllib3!=1.25.0,!=1.25.1,<1.26,>=1.21.1 in /usr/local/lib/python3.7/dist-packages (from requests->gTTS) (1.24.3)\n",
            "Requirement already satisfied: chardet<4,>=3.0.2 in /usr/local/lib/python3.7/dist-packages (from requests->gTTS) (3.0.4)\n",
            "Requirement already satisfied: idna<3,>=2.5 in /usr/local/lib/python3.7/dist-packages (from requests->gTTS) (2.10)\n",
            "Installing collected packages: gTTS\n",
            "Successfully installed gTTS-2.2.4\n",
            "Looking in indexes: https://pypi.org/simple, https://us-python.pkg.dev/colab-wheels/public/simple/\n",
            "Collecting pydub\n",
            "  Downloading pydub-0.25.1-py2.py3-none-any.whl (32 kB)\n",
            "Installing collected packages: pydub\n",
            "Successfully installed pydub-0.25.1\n"
          ]
        }
      ],
      "source": [
        "!pip install gTTS\n",
        "! pip install pydub #Manipulate audio with an simple and easy high level interface."
      ]
    },
    {
      "cell_type": "code",
      "source": [
        "from gtts import gTTS\n",
        "import IPython #IPython provides a rich architecture for interactive computing\n",
        "tts=gTTS('Hello,How are you?')\n",
        "tts.save('demo.wav')\n",
        "sound_file='demo.wav'\n",
        "IPython.display.Audio(sound_file, autoplay=False)"
      ],
      "metadata": {
        "colab": {
          "base_uri": "https://localhost:8080/",
          "height": 61
        },
        "id": "sezongkOkIjQ",
        "outputId": "90978fe0-0eca-4035-8bae-d50e2b04212b"
      },
      "execution_count": null,
      "outputs": [
        {
          "output_type": "execute_result",
          "data": {
            "text/plain": [
              "<IPython.lib.display.Audio object>"
            ],
            "text/html": [
              "\n",
              "                <audio controls=\"controls\" >\n",
              "                    <source src=\"data:audio/x-wav;base64,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\" type=\"audio/x-wav\" />\n",
              "                    Your browser does not support the audio element.\n",
              "                </audio>\n",
              "              "
            ]
          },
          "metadata": {},
          "execution_count": 2
        }
      ]
    }
  ]
}